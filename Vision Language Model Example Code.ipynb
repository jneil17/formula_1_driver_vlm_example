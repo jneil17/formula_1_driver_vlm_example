{
 "cells": [
  {
   "cell_type": "code",
   "execution_count": 0,
   "metadata": {
    "application/vnd.databricks.v1+cell": {
     "cellMetadata": {
      "byteLimit": 2048000,
      "implicitDf": true,
      "rowLimit": 10000
     },
     "inputWidgets": {},
     "nuid": "3ea1882f-1621-4ac0-80c4-33591d736b21",
     "showTitle": false,
     "tableResultSettingsMap": {},
     "title": ""
    }
   },
   "outputs": [],
   "source": [
    "%sql\n",
    "create or replace volume formula1.default.driver_images"
   ]
  },
  {
   "cell_type": "code",
   "execution_count": 0,
   "metadata": {
    "application/vnd.databricks.v1+cell": {
     "cellMetadata": {
      "byteLimit": 2048000,
      "rowLimit": 10000
     },
     "inputWidgets": {},
     "nuid": "167a4d88-9c35-4dab-999e-bab35878b10e",
     "showTitle": false,
     "tableResultSettingsMap": {},
     "title": ""
    }
   },
   "outputs": [],
   "source": [
    "dbutils.fs.rm(\"/Volumes/formula1/default/driver_images/\", True)"
   ]
  },
  {
   "cell_type": "code",
   "execution_count": 0,
   "metadata": {
    "application/vnd.databricks.v1+cell": {
     "cellMetadata": {
      "byteLimit": 2048000,
      "rowLimit": 10000
     },
     "inputWidgets": {},
     "nuid": "0445f34d-fbdd-4dd3-8497-3d578491a099",
     "showTitle": false,
     "tableResultSettingsMap": {},
     "title": ""
    }
   },
   "outputs": [],
   "source": [
    "import requests\n",
    "from PIL import Image\n",
    "from io import BytesIO\n",
    "\n",
    "image_filenames = [\n",
    "    \"Alexander_Albon_23.png\",\n",
    "    \"Carlos_Sainz_55.png\",\n",
    "    \"Charles_Leclerc_16.png\",\n",
    "    \"Esteban_Ocon_31.png\",\n",
    "    \"Fernando_Alonso_14.png\",\n",
    "    \"Gabriel_Bortoleto_5.png\",\n",
    "    \"George_Russell_63.png\",\n",
    "    \"Isack_Hadjar_6.png\",\n",
    "    \"Jack_Doohan_7.png\",\n",
    "    \"Kimi_Antonelli_12.png\",\n",
    "    \"Lance_Stroll_18.png\",\n",
    "    \"Lando_Norris_4.png\",\n",
    "    \"Lewis_Hamilton_44.png\",\n",
    "    \"Liam_Lawson_30.png\",\n",
    "    \"Max_Verstappen_1.png\",\n",
    "    \"Nico_Hulkenberg_27.png\",\n",
    "    \"Oliver_Bearman_87.png\",\n",
    "    \"Oscar_Piastri_81.png\",\n",
    "    \"Pierre_Gasly_10.png\",\n",
    "    \"Yuki_Tsunoda_22.png\"\n",
    "]\n",
    "\n",
    "base_url = \"https://raw.githubusercontent.com/toUpperCase78/formula1-datasets/be28da6b5a94315dd5fc8c3fc5f240fdccf6f723/F1%202025%20Season%20Drivers/\"\n",
    "volume_path = \"/Volumes/formula1/default/driver_images/\"\n",
    "\n",
    "for filename in image_filenames:\n",
    "    url = f\"{base_url}{filename}\"\n",
    "    response = requests.get(url)\n",
    "    \n",
    "    if response.status_code == 200:\n",
    "        # Load image into PIL\n",
    "        img = Image.open(BytesIO(response.content))\n",
    "        \n",
    "        # Resize to smaller dimensions (adjust as needed)\n",
    "        # This keeps aspect ratio and makes max dimension 800px\n",
    "        max_size = (800, 800)\n",
    "        img.thumbnail(max_size, Image.Resampling.LANCZOS)\n",
    "        \n",
    "        # Save as JPEG with compression (quality 85 is good balance)\n",
    "        output_filename = filename.replace('.png', '.jpg')\n",
    "        img.convert('RGB').save(\n",
    "            f\"{volume_path}{output_filename}\", \n",
    "            'JPEG', \n",
    "            quality=85, \n",
    "            optimize=True\n",
    "        )\n",
    "        print(f\"Saved compressed: {output_filename}\")\n",
    "    else:\n",
    "        print(f\"Failed to download: {filename}\")"
   ]
  },
  {
   "cell_type": "code",
   "execution_count": 0,
   "metadata": {
    "application/vnd.databricks.v1+cell": {
     "cellMetadata": {
      "byteLimit": 2048000,
      "implicitDf": true,
      "rowLimit": 10000
     },
     "inputWidgets": {},
     "nuid": "2753f9d0-bc32-4a23-9716-68d843ace64a",
     "showTitle": false,
     "tableResultSettingsMap": {},
     "title": ""
    }
   },
   "outputs": [],
   "source": [
    "%sql\n",
    "create or replace table formula1.default.driver_images_table\n",
    "TBLPROPERTIES (delta.enableChangeDataFeed = true)\n",
    "SELECT\n",
    "  ai_query(\n",
    "    'databricks-claude-sonnet-4',\n",
    "    'Please describe the mood of the person of the person in the image',\n",
    "    files => files.content\n",
    "  ) AS enriched_caption,\n",
    "  files.path\n",
    "FROM READ_FILES('/Volumes/formula1/default/driver_images', format => 'binaryFile') AS files"
   ]
  },
  {
   "cell_type": "code",
   "execution_count": 0,
   "metadata": {
    "application/vnd.databricks.v1+cell": {
     "cellMetadata": {
      "byteLimit": 2048000,
      "implicitDf": true,
      "rowLimit": 10000
     },
     "inputWidgets": {},
     "nuid": "6b717ea1-b1a0-4ec1-a39d-b1011d7f8768",
     "showTitle": false,
     "tableResultSettingsMap": {},
     "title": ""
    }
   },
   "outputs": [],
   "source": [
    "%sql\n",
    "select\n",
    "*\n",
    "from formula1.default.driver_images_table"
   ]
  },
  {
   "cell_type": "code",
   "execution_count": 0,
   "metadata": {
    "application/vnd.databricks.v1+cell": {
     "cellMetadata": {
      "byteLimit": 2048000,
      "rowLimit": 10000
     },
     "inputWidgets": {},
     "nuid": "82c9c6bd-a88f-4430-8d36-85b80c7f65c5",
     "showTitle": false,
     "tableResultSettingsMap": {},
     "title": ""
    }
   },
   "outputs": [],
   "source": [
    "%pip install -U --quiet databricks-sdk==0.49.0 \"databricks-langchain>=0.4.0\" databricks-agents mlflow[databricks] databricks-vectorsearch==0.55 langchain==0.3.25 langchain_core==0.3.59 bs4==0.0.2 markdownify==0.14.1 pydantic==2.10.1\n",
    "dbutils.library.restartPython()"
   ]
  },
  {
   "cell_type": "code",
   "execution_count": 0,
   "metadata": {
    "application/vnd.databricks.v1+cell": {
     "cellMetadata": {
      "byteLimit": 2048000,
      "rowLimit": 10000
     },
     "inputWidgets": {},
     "nuid": "57b78409-06d8-40df-9ae0-8dfabacbc741",
     "showTitle": false,
     "tableResultSettingsMap": {},
     "title": ""
    }
   },
   "outputs": [],
   "source": [
    "from databricks.vector_search.client import VectorSearchClient\n",
    "vsc = VectorSearchClient(disable_notice=True)"
   ]
  },
  {
   "cell_type": "code",
   "execution_count": 0,
   "metadata": {
    "application/vnd.databricks.v1+cell": {
     "cellMetadata": {
      "byteLimit": 2048000,
      "rowLimit": 10000
     },
     "inputWidgets": {},
     "nuid": "446bda31-c834-454f-867a-ee094d8278d7",
     "showTitle": false,
     "tableResultSettingsMap": {},
     "title": ""
    }
   },
   "outputs": [],
   "source": [
    "import time\n",
    "\n",
    "# Create unique names with timestamp\n",
    "timestamp = str(int(time.time()))\n",
    "endpoint_name = f'f1_drivers_endpoint_{timestamp}'\n",
    "index_name = f'formula1.default.f1_drivers_index_{timestamp}'\n",
    "\n",
    "print(f\"Creating new endpoint: {endpoint_name}\")\n",
    "print(f\"Creating new index: {index_name}\")\n",
    "\n",
    "# Create the vector search endpoint\n",
    "try:\n",
    "    endpoint = vsc.create_endpoint(\n",
    "        name=endpoint_name, \n",
    "        endpoint_type='STANDARD'\n",
    "    )\n",
    "    print(f\"✅ Successfully created endpoint: {endpoint_name}\")\n",
    "except Exception as e:\n",
    "    print(f\"❌ Error creating endpoint: {e}\")\n",
    "    raise\n",
    "\n",
    "# Wait a moment for endpoint to be ready\n",
    "print(\"Waiting for endpoint to be ready...\")\n",
    "time.sleep(10)\n",
    "\n",
    "# Create the vector search index\n",
    "try:\n",
    "    index = vsc.create_delta_sync_index(\n",
    "        endpoint_name=endpoint_name,\n",
    "        index_name=index_name,\n",
    "        source_table_name='formula1.default.driver_images_table',\n",
    "        pipeline_type=\"TRIGGERED\",\n",
    "        primary_key=\"path\",\n",
    "        embedding_source_column='enriched_caption',\n",
    "        embedding_model_endpoint_name='databricks-gte-large-en'\n",
    "    )\n",
    "    print(f\"✅ Successfully created index: {index_name}\")\n",
    "except Exception as e:\n",
    "    print(f\"❌ Error creating index: {e}\")\n",
    "    raise\n",
    "\n",
    "print(\"\\n🎉 Vector search setup complete!\")\n",
    "print(f\"Endpoint: {endpoint_name}\")\n",
    "print(f\"Index: {index_name}\")"
   ]
  },
  {
   "cell_type": "code",
   "execution_count": 0,
   "metadata": {
    "application/vnd.databricks.v1+cell": {
     "cellMetadata": {
      "byteLimit": 2048000,
      "rowLimit": 10000
     },
     "inputWidgets": {},
     "nuid": "63362a3b-143e-4d01-9b1e-cf64e47c2bd2",
     "showTitle": false,
     "tableResultSettingsMap": {},
     "title": ""
    }
   },
   "outputs": [],
   "source": [
    "# Use the index name we just created\n",
    "index_name = 'formula1.default.f1_drivers_index_1760374349'\n",
    "\n",
    "print(f\"Testing vector search with index: {index_name}\")\n",
    "print(\"Attempting semantic search...\")\n",
    "\n",
    "try:\n",
    "    # Test semantic search for confident drivers\n",
    "    results = spark.sql(f\"\"\"\n",
    "    SELECT \n",
    "        search_score,\n",
    "        REGEXP_EXTRACT(path, r'([^/]+)\\\\.jpg$', 1) as driver_name,\n",
    "        enriched_caption\n",
    "    FROM VECTOR_SEARCH(\n",
    "        index => '{index_name}',\n",
    "        query_text => 'confident and determined professional athlete',\n",
    "        num_results => 5\n",
    "    )\n",
    "    ORDER BY search_score DESC\n",
    "    \"\"\")\n",
    "    \n",
    "    print(\"\\n✅ Vector search is working! \\n🏆 Top 5 drivers with confident mood:\")\n",
    "    display(results)\n",
    "    \n",
    "    # Test another semantic search\n",
    "    results2 = spark.sql(f\"\"\"\n",
    "    SELECT \n",
    "        search_score,\n",
    "        REGEXP_EXTRACT(path, r'([^/]+)\\\\.jpg$', 1) as driver_name,\n",
    "        enriched_caption\n",
    "    FROM VECTOR_SEARCH(\n",
    "        index => '{index_name}',\n",
    "        query_text => 'happy celebrating victory triumph',\n",
    "        num_results => 3\n",
    "    )\n",
    "    ORDER BY search_score DESC\n",
    "    \"\"\")\n",
    "    \n",
    "    print(\"\\n🎉 Top 3 drivers with celebratory mood:\")\n",
    "    display(results2)\n",
    "    \n",
    "    # Test one more search\n",
    "    results3 = spark.sql(f\"\"\"\n",
    "    SELECT \n",
    "        search_score,\n",
    "        REGEXP_EXTRACT(path, r'([^/]+)\\\\.jpg$', 1) as driver_name,\n",
    "        enriched_caption\n",
    "    FROM VECTOR_SEARCH(\n",
    "        index => '{index_name}',\n",
    "        query_text => 'serious focused intense concentration',\n",
    "        num_results => 3\n",
    "    )\n",
    "    ORDER BY search_score DESC\n",
    "    \"\"\")\n",
    "    \n",
    "    print(\"\\n🎯 Top 3 drivers with serious/focused mood:\")\n",
    "    display(results3)\n",
    "    \n",
    "except Exception as e:\n",
    "    print(f\"\\n⚠️ Vector search not ready yet: {e}\")\n",
    "    print(\"The index is still building embeddings. This typically takes 5-10 minutes.\")\n",
    "    print(\"\\n🔍 Showing text-based search as fallback:\")\n",
    "    \n",
    "    confident_drivers = spark.sql(\"\"\"\n",
    "    SELECT \n",
    "        REGEXP_EXTRACT(path, r'([^/]+)\\\\.jpg$', 1) as driver_name,\n",
    "        enriched_caption\n",
    "    FROM formula1.default.driver_images_table\n",
    "    WHERE LOWER(enriched_caption) LIKE '%confident%'\n",
    "    ORDER BY driver_name\n",
    "    \"\"\")\n",
    "    display(confident_drivers)"
   ]
  },
  {
   "cell_type": "code",
   "execution_count": 0,
   "metadata": {
    "application/vnd.databricks.v1+cell": {
     "cellMetadata": {
      "byteLimit": 2048000,
      "rowLimit": 10000
     },
     "inputWidgets": {},
     "nuid": "8e6f6695-6773-4d6e-94c8-759fefedc0c8",
     "showTitle": false,
     "tableResultSettingsMap": {},
     "title": ""
    }
   },
   "outputs": [],
   "source": [
    "display(spark.read.format(\"binaryFile\").load(\"dbfs:/Volumes/formula1/default/driver_images/Max_Verstappen_1.jpg\"))"
   ]
  }
 ],
 "metadata": {
  "application/vnd.databricks.v1+notebook": {
   "computePreferences": null,
   "dashboards": [],
   "environmentMetadata": {
    "base_environment": "",
    "environment_version": "3"
   },
   "inputWidgetPreferences": null,
   "language": "python",
   "notebookMetadata": {
    "mostRecentlyExecutedCommandWithImplicitDF": {
     "commandId": 311690189223149,
     "dataframes": [
      "_sqldf"
     ]
    },
    "pythonIndentUnit": 2
   },
   "notebookName": "Vision Language Model Example Code",
   "widgets": {}
  },
  "language_info": {
   "name": "python"
  }
 },
 "nbformat": 4,
 "nbformat_minor": 0
}
